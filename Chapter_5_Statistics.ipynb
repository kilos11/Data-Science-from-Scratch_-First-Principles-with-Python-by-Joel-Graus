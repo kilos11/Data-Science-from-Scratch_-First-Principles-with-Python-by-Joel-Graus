{
  "nbformat": 4,
  "nbformat_minor": 0,
  "metadata": {
    "colab": {
      "provenance": [],
      "authorship_tag": "ABX9TyNno83OHW+C0NoTzRmR5rSd",
      "include_colab_link": true
    },
    "kernelspec": {
      "name": "python3",
      "display_name": "Python 3"
    },
    "language_info": {
      "name": "python"
    }
  },
  "cells": [
    {
      "cell_type": "markdown",
      "metadata": {
        "id": "view-in-github",
        "colab_type": "text"
      },
      "source": [
        "<a href=\"https://colab.research.google.com/github/kilos11/Data-Science-from-Scratch_-First-Principles-with-Python-by-Joel-Graus/blob/main/Chapter_5_Statistics.ipynb\" target=\"_parent\"><img src=\"https://colab.research.google.com/assets/colab-badge.svg\" alt=\"Open In Colab\"/></a>"
      ]
    },
    {
      "cell_type": "markdown",
      "source": [
        "**Describing a Single Set of Data**"
      ],
      "metadata": {
        "id": "fQT9U01fItZf"
      }
    },
    {
      "cell_type": "code",
      "execution_count": 3,
      "metadata": {
        "colab": {
          "base_uri": "https://localhost:8080/",
          "height": 472
        },
        "id": "EV9CrueZIOvv",
        "outputId": "70dc9043-750a-454c-8b72-38c37d3eebd4"
      },
      "outputs": [
        {
          "output_type": "display_data",
          "data": {
            "text/plain": [
              "<Figure size 640x480 with 1 Axes>"
            ],
            "image/png": "[encoded data removed]"
          },
          "metadata": {}
        }
      ],
      "source": [
        "import matplotlib.pyplot as plt\n",
        "from collections import Counter\n",
        "\n",
        "num_friends = [100, 49, 41, 40, 25,\n",
        "# ... and lots more\n",
        "]\n",
        "\n",
        "friend_counts = Counter(num_friends)\n",
        "xs = range(101) # largest value is 100\n",
        "ys = [friend_counts[x] for x in xs] # height is just # of friends\n",
        "plt.bar(xs, ys)\n",
        "plt.axis([0, 101, 0, 25])\n",
        "plt.title(\"Histogram of Friend Counts\")\n",
        "plt.xlabel(\"# of friends\")\n",
        "plt.ylabel(\"# of people\")\n",
        "plt.show()"
      ]
    },
    {
      "cell_type": "markdown",
      "source": [
        " Unfortunately, this chart is still too difficult to slip into conversations. So you start\n",
        "generating some statistics. Probably the simplest statistic is simply the number of data\n",
        "points:"
      ],
      "metadata": {
        "id": "TgqLC7QMKK2V"
      }
    },
    {
      "cell_type": "code",
      "source": [
        "num_points = len(num_friends) # 204\n",
        "\n",
        "#You’re probably also interested in the largest and smallest values:\n",
        "largest_value = max(num_friends) # 100\n",
        "smallest_value = min(num_friends) # 1\n",
        "\n",
        "#which are just special cases of wanting to know the values in specific positions:\n",
        "sorted_values = sorted(num_friends)\n",
        "smallest_value = sorted_values[0] # 1\n",
        "second_smallest_value = sorted_values[1] # 1\n",
        "second_largest_value = sorted_values[-2] # 49\n",
        "\n",
        "\n",
        "\n"
      ],
      "metadata": {
        "id": "HIwUBY-CKaU8"
      },
      "execution_count": 4,
      "outputs": []
    },
    {
      "cell_type": "markdown",
      "source": [
        "**Central Tendencies**\n"
      ],
      "metadata": {
        "id": "qnWOG0VTMJtd"
      }
    },
    {
      "cell_type": "code",
      "source": [
        "# Import division from the __future__ module to ensure accurate division in Python 2.x\n",
        "from __future__ import division\n",
        "\n",
        "# Calculate the mean of a list of numbers\n",
        "def mean(x):\n",
        "    return sum(x) / len(x)\n",
        "\n",
        "mean(num_friends)  # Returns 7.333333\n",
        "\n",
        "# Calculate the median of a list of numbers\n",
        "def median(v):\n",
        "    \"\"\"Finds the 'middle-most' value of v\"\"\"\n",
        "    n = len(v)\n",
        "    sorted_v = sorted(v)\n",
        "    midpoint = n // 2\n",
        "\n",
        "    if n % 2 == 1:\n",
        "        # If the length of v is odd, return the middle value\n",
        "        return sorted_v[midpoint]\n",
        "    else:\n",
        "        # If the length of v is even, return the average of the middle values\n",
        "        lo = midpoint - 1\n",
        "        hi = midpoint\n",
        "        return (sorted_v[lo] + sorted_v[hi]) / 2\n",
        "\n",
        "median(num_friends)  # Returns 6.0\n",
        "\n",
        "# Calculate the quantile of a list of numbers\n",
        "def quantile(x, p):\n",
        "    \"\"\"Returns the pth-percentile value in x\"\"\"\n",
        "    p_index = int(p * len(x))\n",
        "    return sorted(x)[p_index]\n",
        "\n",
        "quantile(num_friends, 0.10)  # Returns 1\n",
        "quantile(num_friends, 0.25)  # Returns 3\n",
        "quantile(num_friends, 0.75)  # Returns 9\n",
        "quantile(num_friends, 0.90)  # Returns 13\n",
        "\n",
        "# Calculate the mode(s) of a list of numbers\n",
        "def mode(x):\n",
        "    \"\"\"Returns a list of the most common value(s) in x\"\"\"\n",
        "    counts = Counter(x)\n",
        "    max_count = max(counts.values())\n",
        "    return [x_i for x_i, count in counts.items()\n",
        "            if count == max_count]\n",
        "\n",
        "mode(num_friends)  # Returns [1, 6]"
      ],
      "metadata": {
        "colab": {
          "base_uri": "https://localhost:8080/"
        },
        "id": "r0LPs2bUMNPD",
        "outputId": "339e6f77-8d0a-45c8-ab54-1ea56741055f"
      },
      "execution_count": 6,
      "outputs": [
        {
          "output_type": "execute_result",
          "data": {
            "text/plain": [
              "41"
            ]
          },
          "metadata": {},
          "execution_count": 6
        }
      ]
    },
    {
      "cell_type": "markdown",
      "source": [
        "# Dispersion\n",
        "Dispersion refers to measures of how spread out our data is. Typically they’re statistics for\n",
        "which values near zero signify not spread out at all and for which large values (whatever\n",
        "that means) signify very spread out. For instance, a very simple measure is the range,\n",
        "which is just the difference between the largest and smallest elements:\n"
      ],
      "metadata": {
        "id": "o-ImCTNxVocI"
      }
    },
    {
      "cell_type": "code",
      "source": [
        "# \"range\" already means something in Python, so we'll use a different name\n",
        "def data_range(x):\n",
        "    return max(x) - min(x)\n",
        "\n",
        "data_range(num_friends) # 99\n",
        "\n",
        "#A more complex measure of dispersion is the variance, which is computed as:\n",
        "def de_mean(x):\n",
        "    \"\"\"translate x by subtracting its mean (so the result has mean 0)\"\"\"\n",
        "    x_bar = mean(x)\n",
        "    return [x_i - x_bar for x_i in x]\n",
        "\n",
        "def variance(x):\n",
        "    \"\"\"assumes x has at least two elements\"\"\"\n",
        "    n = len(x)\n",
        "    deviations = de_mean(x)\n",
        "    return sum_of_squares(deviations) / (n - 1)\n",
        "\n",
        "variance(num_friends) # 81.54\n",
        "\n",
        "\n",
        "\n",
        "\n",
        "\n",
        "\n"
      ],
      "metadata": {
        "colab": {
          "base_uri": "https://localhost:8080/"
        },
        "id": "kZQWN83-VtUw",
        "outputId": "9b01f0e5-957f-43e3-99ac-ef6faf0f194d"
      },
      "execution_count": 7,
      "outputs": [
        {
          "output_type": "execute_result",
          "data": {
            "text/plain": [
              "75"
            ]
          },
          "metadata": {},
          "execution_count": 7
        }
      ]
    },
    {
      "cell_type": "markdown",
      "source": [
        "# Correlation:\n",
        "\n",
        "We’ll first look at covariance, the paired analogue of variance. Whereas variance\n",
        "measures how a single variable deviates from its mean, covariance measures how two\n",
        "variables vary in tandem from their means:\n",
        "\n"
      ],
      "metadata": {
        "id": "0UbYb-7cYMZC"
      }
    },
    {
      "cell_type": "code",
      "source": [
        "def covariance(x, y):\n",
        "    n = len(x)\n",
        "    return dot(de_mean(x), de_mean(y)) / (n - 1)\n",
        "\n",
        "covariance(num_friends, daily_minutes) # 22.43\n",
        "\n",
        "#it’s more common to look at the correlation, which divides out the\n",
        "#standard deviations of both variables:\n",
        "def correlation(x, y):\n",
        "    stdev_x = standard_deviation(x)\n",
        "    stdev_y = standard_deviation(y)\n",
        "    if stdev_x > 0 and stdev_y > 0:\n",
        "        return covariance(x, y) / stdev_x / stdev_y\n",
        "    else:\n",
        "        return 0 # if no variation, correlation is zero\n",
        "\n",
        "correlation(num_friends, daily_minutes) # 0.25\n",
        "\n",
        "\n",
        "\n",
        "\n",
        "\n",
        "\n",
        "\n"
      ],
      "metadata": {
        "id": "_WL2KbzjYVA3"
      },
      "execution_count": null,
      "outputs": []
    }
  ]
}