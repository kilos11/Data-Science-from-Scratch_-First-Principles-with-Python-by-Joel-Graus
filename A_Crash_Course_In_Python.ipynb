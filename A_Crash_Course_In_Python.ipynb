{
  "nbformat": 4,
  "nbformat_minor": 0,
  "metadata": {
    "colab": {
      "provenance": [],
      "authorship_tag": "ABX9TyPNRGsAYDP8XcXfjmeWXR7C",
      "include_colab_link": true
    },
    "kernelspec": {
      "name": "python3",
      "display_name": "Python 3"
    },
    "language_info": {
      "name": "python"
    }
  },
  "cells": [
    {
      "cell_type": "markdown",
      "metadata": {
        "id": "view-in-github",
        "colab_type": "text"
      },
      "source": [
        "<a href=\"https://colab.research.google.com/github/kilos11/Data-Science-from-Scratch_-First-Principles-with-Python-by-Joel-Graus/blob/main/A_Crash_Course_In_Python.ipynb\" target=\"_parent\"><img src=\"https://colab.research.google.com/assets/colab-badge.svg\" alt=\"Open In Colab\"/></a>"
      ]
    },
    {
      "cell_type": "code",
      "execution_count": null,
      "metadata": {
        "id": "Ju7yh1AXOKx-"
      },
      "outputs": [],
      "source": [
        "tweet = {\n",
        "\"user\" : \"joelgrus\",\n",
        "\"text\" : \"Data Science is Awesome\",\n",
        "\"retweet_count\" : 100,\n",
        "\"hashtags\" : [\"#data\", \"#science\", \"#datascience\", \"#awesome\", \"#yolo\"]\n",
        "}"
      ]
    },
    {
      "cell_type": "code",
      "source": [
        "tweet_keys = tweet.keys()\n",
        "print(tweet_keys)"
      ],
      "metadata": {
        "colab": {
          "base_uri": "https://localhost:8080/"
        },
        "id": "ZdaMXDrL8KoK",
        "outputId": "4cff798e-09cb-4d74-f3ee-3c31fd927e57"
      },
      "execution_count": null,
      "outputs": [
        {
          "output_type": "stream",
          "name": "stdout",
          "text": [
            "dict_keys(['user', 'text', 'retweet_count', 'hashtags'])\n"
          ]
        }
      ]
    },
    {
      "cell_type": "code",
      "source": [
        "tweet_values = tweet.values()\n",
        "print(tweet_values)"
      ],
      "metadata": {
        "colab": {
          "base_uri": "https://localhost:8080/"
        },
        "id": "sZTSSLru8jOJ",
        "outputId": "aced5f31-133c-456e-c5d4-460cabd50115"
      },
      "execution_count": null,
      "outputs": [
        {
          "output_type": "stream",
          "name": "stdout",
          "text": [
            "dict_values(['joelgrus', 'Data Science is Awesome', 100, ['#data', '#science', '#datascience', '#awesome', '#yolo']])\n"
          ]
        }
      ]
    },
    {
      "cell_type": "code",
      "source": [
        "tweet_items = tweet.items()\n",
        "print(tweet_items)"
      ],
      "metadata": {
        "colab": {
          "base_uri": "https://localhost:8080/"
        },
        "id": "bHyK_C3i82NB",
        "outputId": "68e30e8c-785b-442e-f07d-fb2abf950646"
      },
      "execution_count": null,
      "outputs": [
        {
          "output_type": "stream",
          "name": "stdout",
          "text": [
            "dict_items([('user', 'joelgrus'), ('text', 'Data Science is Awesome'), ('retweet_count', 100), ('hashtags', ['#data', '#science', '#datascience', '#awesome', '#yolo'])])\n"
          ]
        }
      ]
    },
    {
      "cell_type": "code",
      "source": [
        "\"user\" in tweet_keys"
      ],
      "metadata": {
        "colab": {
          "base_uri": "https://localhost:8080/"
        },
        "id": "4zdc17Bv9R3T",
        "outputId": "5ff3840d-6752-46ed-8fb6-9d171508be82"
      },
      "execution_count": null,
      "outputs": [
        {
          "output_type": "execute_result",
          "data": {
            "text/plain": [
              "True"
            ]
          },
          "metadata": {},
          "execution_count": 8
        }
      ]
    },
    {
      "cell_type": "code",
      "source": [
        "\"user\" in tweet"
      ],
      "metadata": {
        "colab": {
          "base_uri": "https://localhost:8080/"
        },
        "id": "sTSlZ5oy9dHU",
        "outputId": "38a16ddb-4127-4f73-8e24-7945bc9e6608"
      },
      "execution_count": null,
      "outputs": [
        {
          "output_type": "execute_result",
          "data": {
            "text/plain": [
              "True"
            ]
          },
          "metadata": {},
          "execution_count": 9
        }
      ]
    },
    {
      "cell_type": "code",
      "source": [
        "\"joelgrus\" in tweet_values"
      ],
      "metadata": {
        "colab": {
          "base_uri": "https://localhost:8080/"
        },
        "id": "Yb4SPbS_9nOa",
        "outputId": "08c1eea1-6048-4819-90e3-090e4d7cafcf"
      },
      "execution_count": null,
      "outputs": [
        {
          "output_type": "execute_result",
          "data": {
            "text/plain": [
              "True"
            ]
          },
          "metadata": {},
          "execution_count": 10
        }
      ]
    },
    {
      "cell_type": "code",
      "source": [
        "word_counts = {}\n",
        "for word in document:\n",
        "    if word in word_counts:\n",
        "        word_counts[word] += 1\n",
        "    else:\n",
        "\n",
        "\n"
      ],
      "metadata": {
        "id": "YfDM4NyO-GSH"
      },
      "execution_count": null,
      "outputs": []
    },
    {
      "cell_type": "code",
      "source": [
        "for x in range(10):\n",
        "    print (x, \"is less than 10\")\n",
        "\n"
      ],
      "metadata": {
        "colab": {
          "base_uri": "https://localhost:8080/"
        },
        "id": "BY_TincgBUAs",
        "outputId": "4279ebd2-8666-4fae-a7d8-b61591916cb5"
      },
      "execution_count": null,
      "outputs": [
        {
          "output_type": "stream",
          "name": "stdout",
          "text": [
            "0 is less than 10\n",
            "1 is less than 10\n",
            "2 is less than 10\n",
            "3 is less than 10\n",
            "4 is less than 10\n",
            "5 is less than 10\n",
            "6 is less than 10\n",
            "7 is less than 10\n",
            "8 is less than 10\n",
            "9 is less than 10\n"
          ]
        }
      ]
    },
    {
      "cell_type": "code",
      "source": [
        "# List comprehension to generate a list of even numbers from 0 to 4\n",
        "even_numbers = [x for x in range(5) if x % 2 == 0]  # [0, 2, 4]\n",
        "\n",
        "# List comprehension to generate a list of squares of numbers from 0 to 4\n",
        "squares = [x * x for x in range(5)]  # [0, 1, 4, 9, 16]\n",
        "\n",
        "# List comprehension to generate a list of squares of even numbers\n",
        "even_squares = [x * x for x in even_numbers]  # [0, 4, 16]\n",
        "\n",
        "# Print the list of even numbers\n",
        "print(even_numbers)\n",
        "\n",
        "# Print the list of squares\n",
        "print(squares)\n",
        "\n",
        "# Print the list of squares of even numbers\n",
        "print(even_squares)\n",
        "\n",
        "# List comprehension to generate a list of zeros with the same length as even_numbers\n",
        "zeros = [0 for _ in even_numbers]\n",
        "\n",
        "# Print the list of zeros\n",
        "print(zeros)\n",
        "\n",
        "# List comprehension to generate a list of pairs of numbers from 0 to 9\n",
        "pairs = [(x, y)\n",
        "         for x in range(10)\n",
        "         for y in range(10)]  # 100 pairs (0,0) (0,1) ... (9,8), (9,9)"
      ],
      "metadata": {
        "id": "qr29CT2dDAVj",
        "colab": {
          "base_uri": "https://localhost:8080/"
        },
        "outputId": "855b6f68-0f1d-4698-fa5b-9db8ca93ffaf"
      },
      "execution_count": null,
      "outputs": [
        {
          "output_type": "stream",
          "name": "stdout",
          "text": [
            "[0, 2, 4]\n",
            "[0, 1, 4, 9, 16]\n",
            "[0, 4, 16]\n",
            "[0, 0, 0]\n"
          ]
        }
      ]
    },
    {
      "cell_type": "markdown",
      "source": [
        "**Generators and Iterators**\n",
        "\n",
        "One way to create generators is with functions and the yield operator:\n",
        "\n"
      ],
      "metadata": {
        "id": "blWznujsNOJd"
      }
    },
    {
      "cell_type": "code",
      "source": [
        "def lazy_range(n):\n",
        "    \"\"\"a lazy version of range\"\"\"\n",
        "    i = 0\n",
        "    while i < 0:\n",
        "        yield i\n",
        "        i =+ 1\n",
        "\n"
      ],
      "metadata": {
        "id": "S0P9kjXiNRjH"
      },
      "execution_count": null,
      "outputs": []
    },
    {
      "cell_type": "code",
      "source": [
        "#The following loop will consume the yielded values one at a time until none are left:\n",
        "for i in lazy_range(10):\n",
        "    print(i)\n"
      ],
      "metadata": {
        "colab": {
          "base_uri": "https://localhost:8080/",
          "height": 143
        },
        "id": "E5T9JwKhdlj6",
        "outputId": "fb99b39c-329c-4838-8514-5107b2fbde86"
      },
      "execution_count": null,
      "outputs": [
        {
          "output_type": "error",
          "ename": "IndentationError",
          "evalue": "unexpected indent (<ipython-input-5-5d48bbda6672>, line 5)",
          "traceback": [
            "\u001b[0;36m  File \u001b[0;32m\"<ipython-input-5-5d48bbda6672>\"\u001b[0;36m, line \u001b[0;32m5\u001b[0m\n\u001b[0;31m    print(for i in lazy_range(10))\u001b[0m\n\u001b[0m    ^\u001b[0m\n\u001b[0;31mIndentationError\u001b[0m\u001b[0;31m:\u001b[0m unexpected indent\n"
          ]
        }
      ]
    },
    {
      "cell_type": "code",
      "source": [
        "#A second way to create generators is by using for comprehensions wrapped in\n",
        "#parentheses:\n",
        "lazy_evens_below_20 = (i for i in lazy_range(20) if i%2 ==0)\n",
        "print(lazy_evens_below_20)\n",
        "\n",
        "\n"
      ],
      "metadata": {
        "colab": {
          "base_uri": "https://localhost:8080/"
        },
        "id": "-JdJdQ38e5Ps",
        "outputId": "65c7dc03-4686-488e-893a-6383b2914ed0"
      },
      "execution_count": null,
      "outputs": [
        {
          "output_type": "stream",
          "name": "stdout",
          "text": [
            "<generator object <genexpr> at 0x7951cf8e1ee0>\n"
          ]
        }
      ]
    },
    {
      "cell_type": "markdown",
      "source": [
        "# **Randomness**\n"
      ],
      "metadata": {
        "id": "kmL7lwSNgqs3"
      }
    },
    {
      "cell_type": "code",
      "source": [
        "import random\n",
        "\n",
        "four_uniform_random = [random.random() for _ in range(4)]\n",
        "print(four_uniform_random)\n",
        "\n",
        "random.seed(10)\n",
        "print(random.random())\n",
        "random.seed(10)\n",
        "print(random.random())\n",
        "\n",
        "#We’ll sometimes use random.randrange, which takes either 1 or 2 arguments and returns\n",
        "#an element chosen randomly from the corresponding range():\n",
        "random.randrange(10) # choose randomly from range(10) = [0, 1, ..., 9]\n",
        "random.randrange(3, 6) # choose randomly from range(3, 6) = [3, 4, 5]\n",
        "\n",
        "\n",
        "#There are a few more methods that we’ll sometimes find convenient. random.shuffle\n",
        "#randomly reorders the elements of a list:\n",
        "up_to_ten = range(10)\n",
        "random.shuffle(up_to_ten)\n",
        "print(up_to-ten)\n",
        "\n",
        "#If you need to randomly pick one element from a list you can use random.choice:\n",
        "my_best_friend = random.choice([\"Alice\", \"Bob\", \"Charlie\"]) # \"Bob\" for me\n",
        "\n",
        "#And if you need to randomly choose a sample of elements without replacement (i.e., with\n",
        "#no duplicates), you can use random.sample:\n",
        "lottery_numbers = range(60)\n",
        "winning_numbers = random.sample(lottery_numbers, 6) # [16, 36, 10, 6, 25, 9]\n",
        "\n",
        "#To choose a sample of elements with replacement (i.e., allowing duplicates), you can just\n",
        "#make multiple calls to random.choice:\n",
        "four_with_replacement = [random.choice(range(10))\n",
        "for _ in range(4)]\n",
        "\n",
        "\n",
        "\n",
        "\n",
        "\n",
        "\n"
      ],
      "metadata": {
        "colab": {
          "base_uri": "https://localhost:8080/",
          "height": 437
        },
        "id": "qqHQMV-Sg0vJ",
        "outputId": "ced260aa-0d21-4a2e-9503-8424a52f1da9"
      },
      "execution_count": null,
      "outputs": [
        {
          "output_type": "stream",
          "name": "stdout",
          "text": [
            "[0.4288890546751146, 0.5780913011344704, 0.20609823213950174, 0.81332125135732]\n",
            "0.5714025946899135\n",
            "0.5714025946899135\n"
          ]
        },
        {
          "output_type": "error",
          "ename": "TypeError",
          "evalue": "'range' object does not support item assignment",
          "traceback": [
            "\u001b[0;31m---------------------------------------------------------------------------\u001b[0m",
            "\u001b[0;31mTypeError\u001b[0m                                 Traceback (most recent call last)",
            "\u001b[0;32m<ipython-input-12-7be16d70ccb5>\u001b[0m in \u001b[0;36m<cell line: 20>\u001b[0;34m()\u001b[0m\n\u001b[1;32m     18\u001b[0m \u001b[0;31m#randomly reorders the elements of a list:\u001b[0m\u001b[0;34m\u001b[0m\u001b[0;34m\u001b[0m\u001b[0m\n\u001b[1;32m     19\u001b[0m \u001b[0mup_to_ten\u001b[0m \u001b[0;34m=\u001b[0m \u001b[0mrange\u001b[0m\u001b[0;34m(\u001b[0m\u001b[0;36m10\u001b[0m\u001b[0;34m)\u001b[0m\u001b[0;34m\u001b[0m\u001b[0;34m\u001b[0m\u001b[0m\n\u001b[0;32m---> 20\u001b[0;31m \u001b[0mrandom\u001b[0m\u001b[0;34m.\u001b[0m\u001b[0mshuffle\u001b[0m\u001b[0;34m(\u001b[0m\u001b[0mup_to_ten\u001b[0m\u001b[0;34m)\u001b[0m\u001b[0;34m\u001b[0m\u001b[0;34m\u001b[0m\u001b[0m\n\u001b[0m\u001b[1;32m     21\u001b[0m \u001b[0mprint\u001b[0m\u001b[0;34m(\u001b[0m\u001b[0mup_to\u001b[0m\u001b[0;34m-\u001b[0m\u001b[0mten\u001b[0m\u001b[0;34m)\u001b[0m\u001b[0;34m\u001b[0m\u001b[0;34m\u001b[0m\u001b[0m\n\u001b[1;32m     22\u001b[0m \u001b[0;34m\u001b[0m\u001b[0m\n",
            "\u001b[0;32m/usr/lib/python3.10/random.py\u001b[0m in \u001b[0;36mshuffle\u001b[0;34m(self, x, random)\u001b[0m\n\u001b[1;32m    392\u001b[0m                 \u001b[0;31m# pick an element in x[:i+1] with which to exchange x[i]\u001b[0m\u001b[0;34m\u001b[0m\u001b[0;34m\u001b[0m\u001b[0m\n\u001b[1;32m    393\u001b[0m                 \u001b[0mj\u001b[0m \u001b[0;34m=\u001b[0m \u001b[0mrandbelow\u001b[0m\u001b[0;34m(\u001b[0m\u001b[0mi\u001b[0m \u001b[0;34m+\u001b[0m \u001b[0;36m1\u001b[0m\u001b[0;34m)\u001b[0m\u001b[0;34m\u001b[0m\u001b[0;34m\u001b[0m\u001b[0m\n\u001b[0;32m--> 394\u001b[0;31m                 \u001b[0mx\u001b[0m\u001b[0;34m[\u001b[0m\u001b[0mi\u001b[0m\u001b[0;34m]\u001b[0m\u001b[0;34m,\u001b[0m \u001b[0mx\u001b[0m\u001b[0;34m[\u001b[0m\u001b[0mj\u001b[0m\u001b[0;34m]\u001b[0m \u001b[0;34m=\u001b[0m \u001b[0mx\u001b[0m\u001b[0;34m[\u001b[0m\u001b[0mj\u001b[0m\u001b[0;34m]\u001b[0m\u001b[0;34m,\u001b[0m \u001b[0mx\u001b[0m\u001b[0;34m[\u001b[0m\u001b[0mi\u001b[0m\u001b[0;34m]\u001b[0m\u001b[0;34m\u001b[0m\u001b[0;34m\u001b[0m\u001b[0m\n\u001b[0m\u001b[1;32m    395\u001b[0m         \u001b[0;32melse\u001b[0m\u001b[0;34m:\u001b[0m\u001b[0;34m\u001b[0m\u001b[0;34m\u001b[0m\u001b[0m\n\u001b[1;32m    396\u001b[0m             _warn('The *random* parameter to shuffle() has been deprecated\\n'\n",
            "\u001b[0;31mTypeError\u001b[0m: 'range' object does not support item assignment"
          ]
        }
      ]
    },
    {
      "cell_type": "markdown",
      "source": [
        "# **Regular Expressions**"
      ],
      "metadata": {
        "id": "eSBGTtu1lRFR"
      }
    },
    {
      "cell_type": "code",
      "source": [
        "import re\n",
        "\n",
        "# Print the results of various regular expression operations as a list\n",
        "print(all([\n",
        "    not re.match(\"a\", \"cat\"),  # Check if \"cat\" starts with \"a\" - False\n",
        "    re.search(\"a\", \"cat\"),  # Check if \"cat\" contains \"a\" - True\n",
        "    not re.search(\"c\", \"dog\"),  # Check if \"dog\" contains \"c\" - True\n",
        "    3 == len(re.split(\"[ab]\", \"carbs\")),  # Split \"carbs\" at \"a\" or \"b\" and check if the resulting list has length 3 - True\n",
        "    \"R-D-\" == re.sub(\"[0-9]\", \"-\", \"R2D2\")  # Replace any digit in \"R2D2\" with \"-\" - True\n",
        "]))"
      ],
      "metadata": {
        "colab": {
          "base_uri": "https://localhost:8080/"
        },
        "id": "3VsIJg35lXdx",
        "outputId": "9f358ced-f3f1-42ff-96f2-4f89492db314"
      },
      "execution_count": null,
      "outputs": [
        {
          "output_type": "stream",
          "name": "stdout",
          "text": [
            "True\n"
          ]
        }
      ]
    },
    {
      "cell_type": "markdown",
      "source": [
        "# **Object-Oriented Programming**"
      ],
      "metadata": {
        "id": "Ph2gyQsyraSV"
      }
    },
    {
      "cell_type": "code",
      "source": [
        "# by convention, we give classes PascalCase names\n",
        "class Set:\n",
        "    # these are the member functions\n",
        "    # every one takes a first parameter \"self\" (another convention)\n",
        "    # that refers to the particular Set object being used\n",
        "    def __init__ (self,values = None):\n",
        "        \"\"\"This is the constructor.\n",
        "           It gets called when you create a new Set.\n",
        "           You would use it like\n",
        "           s1 = Set() # empty set\n",
        "           s2 = Set([1,2,2,3]) # initialize with values\"\"\"\n",
        "           self.dict = {}# each instance of Set has its own dict property\n",
        "                         # which is what we'll use to track memberships\n",
        "           if values is not None:\n",
        "            for values in values:\n",
        "                self.add (value)\n",
        "\n",
        "    def __repr__ (seld):\n",
        "        \"\"\"this is the string representation of a Set object\n",
        "           if you type it at the Python prompt or pass it to str()\"\"\"\n",
        "           return \"Set:\" + str(self.dict.keys())\n",
        "\n",
        "    # we'll represent membership by being a key in self.dict with value True\n",
        "    def add(self, value):\n",
        "        self.dict[value] = True\n",
        "\n",
        "    # value is in the Set if it's a key in the dictionary\n",
        "    def contains(self, value):\n",
        "        return value in self.dict\n",
        "\n",
        "    def remove(self, value):\n",
        "        del self.dict[value]\n",
        "\n"
      ],
      "metadata": {
        "colab": {
          "base_uri": "https://localhost:8080/",
          "height": 143
        },
        "id": "gIe_P_JYrgWy",
        "outputId": "61b2d72b-9634-4954-cf8f-91535343e11e"
      },
      "execution_count": null,
      "outputs": [
        {
          "output_type": "error",
          "ename": "IndentationError",
          "evalue": "unexpected indent (<ipython-input-14-88841c2d552e>, line 12)",
          "traceback": [
            "\u001b[0;36m  File \u001b[0;32m\"<ipython-input-14-88841c2d552e>\"\u001b[0;36m, line \u001b[0;32m12\u001b[0m\n\u001b[0;31m    self.dict = {}# each instance of Set has its own dict property\u001b[0m\n\u001b[0m    ^\u001b[0m\n\u001b[0;31mIndentationError\u001b[0m\u001b[0;31m:\u001b[0m unexpected indent\n"
          ]
        }
      ]
    },
    {
      "cell_type": "code",
      "source": [
        "#Which we could then use like:\n",
        "s = Set([1,2,3])\n",
        "s.add(4)\n",
        "print s.contains(4) # True\n",
        "s.remove(3)\n",
        "print s.contains(3) # False"
      ],
      "metadata": {
        "colab": {
          "base_uri": "https://localhost:8080/"
        },
        "id": "Q7DQX1lQw9H4",
        "outputId": "cadc9121-b406-4a8c-de96-a952c5ec599d"
      },
      "execution_count": null,
      "outputs": [
        {
          "output_type": "error",
          "ename": "SyntaxError",
          "evalue": "Missing parentheses in call to 'print'. Did you mean print(...)? (<ipython-input-15-57e291e53cc3>, line 4)",
          "traceback": [
            "\u001b[0;36m  File \u001b[0;32m\"<ipython-input-15-57e291e53cc3>\"\u001b[0;36m, line \u001b[0;32m4\u001b[0m\n\u001b[0;31m    print s.contains(4) # True\u001b[0m\n\u001b[0m    ^\u001b[0m\n\u001b[0;31mSyntaxError\u001b[0m\u001b[0;31m:\u001b[0m Missing parentheses in call to 'print'. Did you mean print(...)?\n"
          ]
        }
      ]
    },
    {
      "cell_type": "markdown",
      "source": [
        "# **Functional Tools**\n"
      ],
      "metadata": {
        "id": "yGXCf-DqghkL"
      }
    },
    {
      "cell_type": "code",
      "source": [
        "#. As a simple example, imagine that we have a function\n",
        "#of two variables:\n",
        "def exp(base,power):\n",
        "    return base**power\n",
        "exp(2,3)\n",
        "\n",
        "\n",
        "#we want to use it to create a function of one variable two_to_the whose input is a\n",
        "#power and whose output is the result of exp(2, power)\n",
        "def two_to_the(power):\n",
        "    return exp(2,power)\n",
        "two_to_the(2)\n"
      ],
      "metadata": {
        "colab": {
          "base_uri": "https://localhost:8080/"
        },
        "id": "LPC_6y4qht33",
        "outputId": "8cd338ac-1092-47ed-b5e7-0259793f911e"
      },
      "execution_count": null,
      "outputs": [
        {
          "output_type": "execute_result",
          "data": {
            "text/plain": [
              "4"
            ]
          },
          "metadata": {},
          "execution_count": 2
        }
      ]
    },
    {
      "cell_type": "markdown",
      "source": [
        "**A different approach is to use functools.partial:**\n"
      ],
      "metadata": {
        "id": "Sbg3HxVGj0QY"
      }
    },
    {
      "cell_type": "code",
      "source": [
        "from functools import partial\n",
        "\n",
        "# Import the partial function from the functools module\n",
        "\n",
        "two_to_the = partial(exp, 2)\n",
        "\n",
        "# Create a new function called two_to_the by using the partial function.\n",
        "# The partial function takes a function (exp) and a fixed argument (2).\n",
        "# The resulting function two_to_the is equivalent to calling exp(2, x), where x is the argument passed when invoking two_to_the.\n",
        "\n",
        "print(two_to_the(3))\n",
        "\n",
        "# Call the two_to_the function with an argument of 3.\n",
        "# This is equivalent to calling exp(2, 3), which computes 2 raised to the power of 3.\n",
        "# The result, 8, is printed to the console.\n",
        "\n",
        "\n",
        "#You can also use partial to fill in later arguments if you specify their names:\n",
        "square_of = partial(exp,power=2)\n",
        "print(square_of(2))\n",
        "\n",
        "\n"
      ],
      "metadata": {
        "colab": {
          "base_uri": "https://localhost:8080/"
        },
        "id": "ZAbWV1cXj9CZ",
        "outputId": "4a8dbca2-1b93-4d77-d46d-2d117144a823"
      },
      "execution_count": null,
      "outputs": [
        {
          "output_type": "stream",
          "name": "stdout",
          "text": [
            "8\n",
            "4\n"
          ]
        }
      ]
    },
    {
      "cell_type": "markdown",
      "source": [
        "We will also occasionally use map, reduce, and filter, which provide functional\n",
        "alternatives to list comprehensions:"
      ],
      "metadata": {
        "id": "Xoa4yxq3n9Zj"
      }
    },
    {
      "cell_type": "code",
      "source": [
        "def double(x):\n",
        "    return 2 * x\n",
        "\n",
        "# Define a function called `double` that takes a single argument `x` and returns twice the value of `x`.\n",
        "\n",
        "xs = [1, 2, 3, 4]\n",
        "\n",
        "# Create a list `xs` containing the values [1, 2, 3, 4].\n",
        "\n",
        "twice_xs = [double(x) for x in xs]\n",
        "\n",
        "# Create a new list `twice_xs` using a list comprehension.\n",
        "# Each element in `twice_xs` is obtained by calling the `double` function on the corresponding element in `xs`.\n",
        "\n",
        "print(twice_xs)\n",
        "\n",
        "# Print the list `twice_xs` to the console.\n",
        "\n",
        "twice_xs = map(double, xs)\n",
        "\n",
        "# Apply the `map` function to `double` and `xs`.\n",
        "# This creates a new iterator `twice_xs` where each element is obtained by calling the `double` function on the corresponding element in `xs`.\n",
        "\n",
        "print(twice_xs)\n",
        "\n",
        "# Print the iterator `twice_xs` to the console.\n",
        "# Note that `twice_xs` is an iterator, not a list.\n",
        "\n",
        "list_doubler = partial(map, double)\n",
        "\n",
        "# Create a new function `list_doubler` using the `partial` function.\n",
        "# The `partial` function takes a function (`map`) and a fixed argument (`double`).\n",
        "# The resulting function `list_doubler` is equivalent to calling `map(double, iterable)`, where `iterable` is the argument passed when invoking `list_doubler`.\n",
        "\n",
        "print(list_doubler)\n",
        "\n",
        "# Print the function `list_doubler` to the console.\n",
        "# Note that `list_doubler` is a function that takes an iterable as an argument.\n",
        "\n",
        "twice_xs = list_doubler(xs)\n",
        "\n",
        "# Call the function `list_doubler` with the argument `xs`.\n",
        "# The `list_doubler` function applies the `double` function to each element in `xs` using the `map` function.\n",
        "# The result is converted to a list, and the resulting list is assigned to `twice_xs`.\n",
        "\n",
        "print(twice_xs)\n",
        "\n",
        "# Print the list `twice_xs` to the console.\n",
        "\n",
        "\n",
        "#You can use map with multiple-argument functions if you provide multiple lists:\n",
        "def multiply(x,y):\n",
        "    return x*y\n",
        "\n",
        "products = map(multiply, [1, 2], [4, 5])\n",
        "for x in products:\n",
        "    print(x)\n",
        "\n",
        "\n",
        "\n",
        "\n",
        "\n",
        "\n",
        "\n",
        "\n",
        "\n",
        "\n"
      ],
      "metadata": {
        "colab": {
          "base_uri": "https://localhost:8080/"
        },
        "id": "Hg-8cqoloS8h",
        "outputId": "2f838e59-6359-4621-887f-a55d161d6e85"
      },
      "execution_count": null,
      "outputs": [
        {
          "output_type": "stream",
          "name": "stdout",
          "text": [
            "[2, 4, 6, 8]\n",
            "<map object at 0x7937e7fb33d0>\n",
            "functools.partial(<class 'map'>, <function double at 0x79382b56a170>)\n",
            "<map object at 0x7937e7fb2680>\n",
            "4\n",
            "10\n"
          ]
        }
      ]
    },
    {
      "cell_type": "code",
      "source": [
        "#Similarly, filter does the work of a list-comprehension if:\n",
        "def is_even(x):\n",
        "    \"\"\"True if x is even, False if x is odd\"\"\"\n",
        "    return x%2==0\n",
        "\n",
        "x_evens = [x for x in xs if is_even(x)] # [2, 4]\n",
        "x_evens = filter(is_even, xs) # same as above\n",
        "list_evener = partial(filter, is_even) # *function* that filters a list\n",
        "x_evens = list_evener(xs) # again [2, 4]\n",
        "\n",
        "#And reduce combines the first two elements of a list, then that result with the third, that\n",
        "#result with the fourth, and so on, producing a single result:\n",
        "x_product = reduce(multiply, xs) # = 1 * 2 * 3 * 4 = 24\n",
        "list_product = partial(reduce, multiply) # *function* that reduces a list\n",
        "x_product = list_product(xs) # again = 24\n",
        "\n"
      ],
      "metadata": {
        "id": "hLBfRC1o4u34"
      },
      "execution_count": null,
      "outputs": []
    },
    {
      "cell_type": "markdown",
      "source": [
        "# **enumerate**"
      ],
      "metadata": {
        "id": "cMRqcXyK71h_"
      }
    },
    {
      "cell_type": "code",
      "source": [
        "# not Pythonic\n",
        "for i in range(len(documents)):\n",
        "    document = documents[i]\n",
        "    do_something(i,document)\n",
        "\n",
        "# also not Pythonic\n",
        "i = 0\n",
        "for document in documents:\n",
        "    do_something(i,documents)\n",
        "    i += 1\n",
        "\n",
        "#The Pythonic solution is enumerate, which produces tuples (index, element):\n",
        "for i document in enum(documents):\n",
        "    do_something(i,document)\n",
        "\n",
        "\n",
        "#Similarly, if we just want the indexes:\n",
        "for i in range(len(documents)):# not Pythonic\n",
        "    do_something(i)\n",
        "\n",
        "for i, _ in enumerate(documents):\n",
        "    do_something(i)\n",
        "\n"
      ],
      "metadata": {
        "id": "ymeAEPsQ7_uV"
      },
      "execution_count": null,
      "outputs": []
    },
    {
      "cell_type": "markdown",
      "source": [
        "# **zip and Argument Unpacking**\n",
        "\n",
        "Often we will need to zip two or more lists together. zip transforms multiple lists into a\n",
        "single list of tuples of corresponding elements:\n"
      ],
      "metadata": {
        "id": "ZQm9POVDDnjB"
      }
    },
    {
      "cell_type": "code",
      "source": [
        "list1 = ['a', 'b', 'c']\n",
        "list2 = [1, 2, 3]\n",
        "zip(list1,list2)# is [('a', 1), ('b', 2), ('c', 3)]\n",
        "\n",
        "#If the lists are different lengths, zip stops as soon as the first list ends.\n",
        "#You can also “unzip” a list using a strange trick:\n",
        "pairs = [('a', 1), ('b', 2), ('c', 3)]\n",
        "letters,numbers = zip(*pairs)\n",
        "#The asterisk performs argument unpacking, which uses the elements of pairs as\n",
        "#individual arguments to zip. It ends up the same as if you’d called:\n",
        "\n",
        "#You can use argument unpacking with any function:\n",
        "def add(a, b):\n",
        "    return a + b\n",
        "\n",
        "add(1, 2) # returns 3\n",
        "add([1, 2]) # TypeError!\n",
        "add(*[1, 2]) # returns 3\n",
        "\n",
        "\n",
        "\n",
        "\n",
        "\n"
      ],
      "metadata": {
        "colab": {
          "base_uri": "https://localhost:8080/",
          "height": 254
        },
        "id": "mod0KL5nDv6x",
        "outputId": "c312cb63-3b59-420a-b454-9d7d80ede8f8"
      },
      "execution_count": null,
      "outputs": [
        {
          "output_type": "error",
          "ename": "TypeError",
          "evalue": "add() missing 1 required positional argument: 'b'",
          "traceback": [
            "\u001b[0;31m---------------------------------------------------------------------------\u001b[0m",
            "\u001b[0;31mTypeError\u001b[0m                                 Traceback (most recent call last)",
            "\u001b[0;32m<ipython-input-9-e8b97917f876>\u001b[0m in \u001b[0;36m<cell line: 17>\u001b[0;34m()\u001b[0m\n\u001b[1;32m     15\u001b[0m \u001b[0;34m\u001b[0m\u001b[0m\n\u001b[1;32m     16\u001b[0m \u001b[0madd\u001b[0m\u001b[0;34m(\u001b[0m\u001b[0;36m1\u001b[0m\u001b[0;34m,\u001b[0m \u001b[0;36m2\u001b[0m\u001b[0;34m)\u001b[0m \u001b[0;31m# returns 3\u001b[0m\u001b[0;34m\u001b[0m\u001b[0;34m\u001b[0m\u001b[0m\n\u001b[0;32m---> 17\u001b[0;31m \u001b[0madd\u001b[0m\u001b[0;34m(\u001b[0m\u001b[0;34m[\u001b[0m\u001b[0;36m1\u001b[0m\u001b[0;34m,\u001b[0m \u001b[0;36m2\u001b[0m\u001b[0;34m]\u001b[0m\u001b[0;34m)\u001b[0m \u001b[0;31m# TypeError!\u001b[0m\u001b[0;34m\u001b[0m\u001b[0;34m\u001b[0m\u001b[0m\n\u001b[0m\u001b[1;32m     18\u001b[0m \u001b[0madd\u001b[0m\u001b[0;34m(\u001b[0m\u001b[0;34m*\u001b[0m\u001b[0;34m[\u001b[0m\u001b[0;36m1\u001b[0m\u001b[0;34m,\u001b[0m \u001b[0;36m2\u001b[0m\u001b[0;34m]\u001b[0m\u001b[0;34m)\u001b[0m \u001b[0;31m# returns 3\u001b[0m\u001b[0;34m\u001b[0m\u001b[0;34m\u001b[0m\u001b[0m\n\u001b[1;32m     19\u001b[0m \u001b[0;34m\u001b[0m\u001b[0m\n",
            "\u001b[0;31mTypeError\u001b[0m: add() missing 1 required positional argument: 'b'"
          ]
        }
      ]
    },
    {
      "cell_type": "markdown",
      "source": [
        "# **args and kwargs**\n"
      ],
      "metadata": {
        "id": "e9UM6Zx4TYFB"
      }
    },
    {
      "cell_type": "code",
      "source": [
        "# Let’s say we want to create a higher-order function that takes as input some function f and\n",
        "# returns a new function that for any input returns twice the value of f:\n",
        "def doubler(f):\n",
        "    def g(x):\n",
        "        return 2 * f(x)\n",
        "    return g\n",
        "\n",
        "# This works in some cases:\n",
        "def f1(x):\n",
        "    return x + 1\n",
        "\n",
        "g = doubler(f1)\n",
        "print(g(3))  # 8 (== (3 + 1) * 2)\n",
        "print(g(-1))  # 0 (== (-1 + 1) * 2)\n",
        "\n",
        "# However, it breaks down with functions that take more than a single argument:\n",
        "def f2(x, y):\n",
        "    return x + y\n",
        "\n",
        "g = doubler(f2)\n",
        "print(g(1, 2))  # 6 (== 1 + 2 + 1 + 2)\n",
        "print(g(3, 1))  # 8 (== 3 + 1 + 3 + 1)\n",
        "\n",
        "def magic(*args, **kwargs):\n",
        "    print(\"unnamed args:\", args)\n",
        "    print(\"keyword args:\", kwargs)\n",
        "\n",
        "magic(1, 2, key=\"word\", key2=\"word2\")\n",
        "# prints\n",
        "# unnamed args: (1, 2)\n",
        "# keyword args: {'key2': 'word2', 'key': 'word'}\n",
        "\n",
        "def other_way_magic(x, y, z):\n",
        "    return x + y + z\n",
        "\n",
        "x_y_list = [1, 2]\n",
        "z_dict = {\"z\": 3}\n",
        "print(other_way_magic(*x_y_list, **z_dict))  # 6\n",
        "\n",
        "def doubler_correct(f):\n",
        "    \"\"\"works no matter what kind of inputs f expects\"\"\"\n",
        "    def g(*args, **kwargs):\n",
        "        \"\"\"whatever arguments g is supplied, pass them through to f\"\"\"\n",
        "        return 2 * f(*args, **kwargs)\n",
        "\n",
        "g = doubler_correct(f2)\n",
        "print(g(1, 2))"
      ],
      "metadata": {
        "id": "JWmQ62JiTzWk"
      },
      "execution_count": null,
      "outputs": []
    },
    {
      "cell_type": "code",
      "source": [],
      "metadata": {
        "id": "_i8MYpfUTyk2"
      },
      "execution_count": null,
      "outputs": []
    }
  ]
}